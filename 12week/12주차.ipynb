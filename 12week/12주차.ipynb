{
  "nbformat": 4,
  "nbformat_minor": 0,
  "metadata": {
    "colab": {
      "name": "12주차.ipynb",
      "provenance": [],
      "collapsed_sections": []
    },
    "kernelspec": {
      "name": "python3",
      "display_name": "Python 3"
    },
    "language_info": {
      "name": "python"
    },
    "accelerator": "GPU"
  },
  "cells": [
    {
      "cell_type": "code",
      "metadata": {
        "id": "HuIVO7H1VCnA"
      },
      "source": [
        "import matplotlib.pyplot as plt\n",
        "import numpy as np\n",
        "import os\n",
        "import PIL\n",
        "import tensorflow as tf\n",
        "import matplotlib.pyplot as plt\n",
        "\n",
        "\n",
        "from tensorflow import keras\n",
        "from tensorflow.keras import layers"
      ],
      "execution_count": null,
      "outputs": []
    },
    {
      "cell_type": "code",
      "metadata": {
        "colab": {
          "base_uri": "https://localhost:8080/"
        },
        "id": "OAdohE_AE9ud",
        "outputId": "4c32ba1c-05b1-479b-c3c1-319f105ba5b4"
      },
      "source": [
        "import pathlib\n",
        "dataset_url = \"https://storage.googleapis.com/download.tensorflow.org/example_images/flower_photos.tgz\"\n",
        "data_dir = tf.keras.utils.get_file('flower_photos', origin=dataset_url, untar=True)\n",
        "data_dir = pathlib.Path(data_dir)"
      ],
      "execution_count": null,
      "outputs": [
        {
          "output_type": "stream",
          "name": "stdout",
          "text": [
            "Downloading data from https://storage.googleapis.com/download.tensorflow.org/example_images/flower_photos.tgz\n",
            "228818944/228813984 [==============================] - 2s 0us/step\n",
            "228827136/228813984 [==============================] - 2s 0us/step\n"
          ]
        }
      ]
    },
    {
      "cell_type": "code",
      "metadata": {
        "id": "f2O9vK5UE_d_"
      },
      "source": [
        "input_shape = (224,224)\n",
        "batch_size = 32"
      ],
      "execution_count": null,
      "outputs": []
    },
    {
      "cell_type": "code",
      "metadata": {
        "colab": {
          "base_uri": "https://localhost:8080/"
        },
        "id": "7wHFpFBEFDX0",
        "outputId": "690c066e-ac5c-4e5c-eed5-acb231771d87"
      },
      "source": [
        "train_ds = tf.keras.preprocessing.image_dataset_from_directory(\n",
        "  data_dir,\n",
        "  validation_split=0.2,\n",
        "  subset=\"training\",\n",
        "  seed=123,\n",
        "  image_size=input_shape,\n",
        "  batch_size=batch_size)"
      ],
      "execution_count": null,
      "outputs": [
        {
          "output_type": "stream",
          "name": "stdout",
          "text": [
            "Found 3670 files belonging to 5 classes.\n",
            "Using 2936 files for training.\n"
          ]
        }
      ]
    },
    {
      "cell_type": "code",
      "metadata": {
        "colab": {
          "base_uri": "https://localhost:8080/"
        },
        "id": "KLSyeUmzFEnh",
        "outputId": "c323f5cd-2cf9-49db-c4c3-6dd54efed1f7"
      },
      "source": [
        "val_ds = tf.keras.preprocessing.image_dataset_from_directory(\n",
        "  data_dir,\n",
        "  validation_split=0.2,\n",
        "  subset=\"validation\",\n",
        "  seed=123,\n",
        "  image_size=input_shape,\n",
        "  batch_size=batch_size)"
      ],
      "execution_count": null,
      "outputs": [
        {
          "output_type": "stream",
          "name": "stdout",
          "text": [
            "Found 3670 files belonging to 5 classes.\n",
            "Using 734 files for validation.\n"
          ]
        }
      ]
    },
    {
      "cell_type": "code",
      "metadata": {
        "id": "jtMmcuSTFF02"
      },
      "source": [
        "num_classes = 5\n",
        "input_shape = (224,224,3)\n",
        "\n",
        "model_input = keras.Input(shape=(224, 224,3), name=\"f_input\")\n",
        "x = layers.Conv2D(16, 3,padding=\"same\", activation=\"relu\")(model_input)\n",
        "x = layers.MaxPooling2D()(x)\n",
        "x = layers.Conv2D(32, 3,padding=\"same\", activation=\"relu\")(x)\n",
        "x = layers.MaxPooling2D()(x)\n",
        "x = layers.Conv2D(64, 3,padding=\"same\", activation=\"relu\")(x)\n",
        "x = layers.MaxPooling2D()(x)\n",
        "x = layers.Flatten()(x)\n",
        "x = layers.Dense(128,activation=\"relu\")(x)\n",
        "model_output = layers.Dense(num_classes,activation=\"softmax\")(x)\n",
        "\n",
        "functional_model = keras.Model(model_input, model_output, name=\"functional_model\")"
      ],
      "execution_count": null,
      "outputs": []
    },
    {
      "cell_type": "code",
      "metadata": {
        "colab": {
          "base_uri": "https://localhost:8080/"
        },
        "id": "nAnpj4pOGLUF",
        "outputId": "74aa0f1b-077c-4ccc-abe2-4a81ce14011d"
      },
      "source": [
        "functional_model.summary()"
      ],
      "execution_count": null,
      "outputs": [
        {
          "output_type": "stream",
          "name": "stdout",
          "text": [
            "Model: \"functional_model\"\n",
            "_________________________________________________________________\n",
            " Layer (type)                Output Shape              Param #   \n",
            "=================================================================\n",
            " f_input (InputLayer)        [(None, 224, 224, 3)]     0         \n",
            "                                                                 \n",
            " conv2d_32 (Conv2D)          (None, 224, 224, 16)      448       \n",
            "                                                                 \n",
            " max_pooling2d_16 (MaxPoolin  (None, 112, 112, 16)     0         \n",
            " g2D)                                                            \n",
            "                                                                 \n",
            " conv2d_33 (Conv2D)          (None, 112, 112, 32)      4640      \n",
            "                                                                 \n",
            " max_pooling2d_17 (MaxPoolin  (None, 56, 56, 32)       0         \n",
            " g2D)                                                            \n",
            "                                                                 \n",
            " conv2d_34 (Conv2D)          (None, 56, 56, 64)        18496     \n",
            "                                                                 \n",
            " max_pooling2d_18 (MaxPoolin  (None, 28, 28, 64)       0         \n",
            " g2D)                                                            \n",
            "                                                                 \n",
            " flatten_10 (Flatten)        (None, 50176)             0         \n",
            "                                                                 \n",
            " dense_20 (Dense)            (None, 128)               6422656   \n",
            "                                                                 \n",
            " dense_21 (Dense)            (None, 5)                 645       \n",
            "                                                                 \n",
            "=================================================================\n",
            "Total params: 6,446,885\n",
            "Trainable params: 6,446,885\n",
            "Non-trainable params: 0\n",
            "_________________________________________________________________\n"
          ]
        }
      ]
    },
    {
      "cell_type": "code",
      "metadata": {
        "id": "7o8wrOJHGLgR"
      },
      "source": [
        "functional_model.compile(optimizer='Adam',\n",
        "              loss=tf.keras.losses.SparseCategoricalCrossentropy(from_logits=True),\n",
        "              metrics=['acc'])"
      ],
      "execution_count": null,
      "outputs": []
    },
    {
      "cell_type": "code",
      "metadata": {
        "colab": {
          "base_uri": "https://localhost:8080/"
        },
        "id": "zShJkE39GVJx",
        "outputId": "b71ed817-3320-4361-81ab-2329539248fc"
      },
      "source": [
        "epochs=10\n",
        "history = functional_model.fit(\n",
        "  train_ds,\n",
        "  validation_data=val_ds,\n",
        "  epochs=epochs\n",
        ")"
      ],
      "execution_count": null,
      "outputs": [
        {
          "output_type": "stream",
          "name": "stdout",
          "text": [
            "Epoch 1/10\n"
          ]
        },
        {
          "output_type": "stream",
          "name": "stderr",
          "text": [
            "/usr/local/lib/python3.7/dist-packages/tensorflow/python/util/dispatch.py:1096: UserWarning: \"`sparse_categorical_crossentropy` received `from_logits=True`, but the `output` argument was produced by a sigmoid or softmax activation and thus does not represent logits. Was this intended?\"\n",
            "  return dispatch_target(*args, **kwargs)\n"
          ]
        },
        {
          "output_type": "stream",
          "name": "stdout",
          "text": [
            "92/92 [==============================] - 11s 104ms/step - loss: 25.0436 - acc: 0.3481 - val_loss: 1.4603 - val_acc: 0.4033\n",
            "Epoch 2/10\n",
            "92/92 [==============================] - 10s 102ms/step - loss: 1.2018 - acc: 0.5351 - val_loss: 1.3946 - val_acc: 0.4223\n",
            "Epoch 3/10\n",
            "92/92 [==============================] - 10s 101ms/step - loss: 0.8005 - acc: 0.7204 - val_loss: 1.5900 - val_acc: 0.4469\n",
            "Epoch 4/10\n",
            "92/92 [==============================] - 10s 102ms/step - loss: 0.5225 - acc: 0.8232 - val_loss: 1.9075 - val_acc: 0.4564\n",
            "Epoch 5/10\n",
            "92/92 [==============================] - 10s 101ms/step - loss: 0.3290 - acc: 0.8965 - val_loss: 1.9710 - val_acc: 0.4537\n",
            "Epoch 6/10\n",
            "92/92 [==============================] - 10s 101ms/step - loss: 0.2638 - acc: 0.9162 - val_loss: 2.1885 - val_acc: 0.4278\n",
            "Epoch 7/10\n",
            "92/92 [==============================] - 10s 101ms/step - loss: 0.1809 - acc: 0.9479 - val_loss: 2.7483 - val_acc: 0.4578\n",
            "Epoch 8/10\n",
            "92/92 [==============================] - 10s 101ms/step - loss: 0.1532 - acc: 0.9571 - val_loss: 3.0003 - val_acc: 0.4510\n",
            "Epoch 9/10\n",
            "92/92 [==============================] - 10s 103ms/step - loss: 0.1137 - acc: 0.9673 - val_loss: 2.9199 - val_acc: 0.4196\n",
            "Epoch 10/10\n",
            "92/92 [==============================] - 10s 102ms/step - loss: 0.1217 - acc: 0.9642 - val_loss: 3.4493 - val_acc: 0.4387\n"
          ]
        }
      ]
    },
    {
      "cell_type": "code",
      "metadata": {
        "id": "QUbmJl0RJxvW"
      },
      "source": [
        "num_classes = 5\n",
        "input_shape = (224,224,3)\n",
        "\n",
        "def func_model(num_classes, input_shape):\n",
        "    model_input = keras.Input(shape=input_shape, name=\"f_input\")\n",
        "    x = layers.Conv2D(16, 3,padding=\"same\", activation=\"relu\")(model_input)\n",
        "    x = layers.MaxPooling2D()(x)\n",
        "    x = layers.Conv2D(32, 3,padding=\"same\", activation=\"relu\")(x)\n",
        "    x = layers.MaxPooling2D()(x)\n",
        "    x = layers.Conv2D(64, 3,padding=\"same\", activation=\"relu\")(x)\n",
        "    x = layers.MaxPooling2D()(x)\n",
        "    x = layers.Flatten()(x)\n",
        "    x = layers.Dense(128,activation=\"relu\")(x)\n",
        "    model_output = layers.Dense(num_classes,activation=\"softmax\")(x)\n",
        "\n",
        "    return keras.Model(model_input, model_output, name=\"functional_model\")"
      ],
      "execution_count": null,
      "outputs": []
    },
    {
      "cell_type": "code",
      "metadata": {
        "id": "hFqQwzUZGX3e"
      },
      "source": [
        "functional_model = func_model(num_classes,input_shape)"
      ],
      "execution_count": null,
      "outputs": []
    },
    {
      "cell_type": "code",
      "metadata": {
        "colab": {
          "base_uri": "https://localhost:8080/"
        },
        "id": "IRAxTHW9Kbrx",
        "outputId": "2ae7e581-0d7c-4815-9296-e663957c5713"
      },
      "source": [
        "functional_model.summary()"
      ],
      "execution_count": null,
      "outputs": [
        {
          "output_type": "stream",
          "name": "stdout",
          "text": [
            "Model: \"functional_model\"\n",
            "_________________________________________________________________\n",
            " Layer (type)                Output Shape              Param #   \n",
            "=================================================================\n",
            " f_input (InputLayer)        [(None, 224, 224, 3)]     0         \n",
            "                                                                 \n",
            " conv2d_35 (Conv2D)          (None, 224, 224, 16)      448       \n",
            "                                                                 \n",
            " max_pooling2d_19 (MaxPoolin  (None, 112, 112, 16)     0         \n",
            " g2D)                                                            \n",
            "                                                                 \n",
            " conv2d_36 (Conv2D)          (None, 112, 112, 32)      4640      \n",
            "                                                                 \n",
            " max_pooling2d_20 (MaxPoolin  (None, 56, 56, 32)       0         \n",
            " g2D)                                                            \n",
            "                                                                 \n",
            " conv2d_37 (Conv2D)          (None, 56, 56, 64)        18496     \n",
            "                                                                 \n",
            " max_pooling2d_21 (MaxPoolin  (None, 28, 28, 64)       0         \n",
            " g2D)                                                            \n",
            "                                                                 \n",
            " flatten_11 (Flatten)        (None, 50176)             0         \n",
            "                                                                 \n",
            " dense_22 (Dense)            (None, 128)               6422656   \n",
            "                                                                 \n",
            " dense_23 (Dense)            (None, 5)                 645       \n",
            "                                                                 \n",
            "=================================================================\n",
            "Total params: 6,446,885\n",
            "Trainable params: 6,446,885\n",
            "Non-trainable params: 0\n",
            "_________________________________________________________________\n"
          ]
        }
      ]
    },
    {
      "cell_type": "code",
      "metadata": {
        "id": "vR198fdjKduj"
      },
      "source": [
        "class MyModel(tf.keras.Model):\n",
        "\n",
        "  def __init__(self,num_classes,input_shape):\n",
        "    super().__init__()\n",
        "    self.conv1 = layers.Conv2D(16, 3,padding=\"same\", activation=\"relu\",input_shape=input_shape)\n",
        "    self.conv2 = layers.Conv2D(32, 3,padding=\"same\", activation=\"relu\")\n",
        "    self.conv3 = layers.Conv2D(64, 3,padding=\"same\", activation=\"relu\")\n",
        "    self.maxpool2d = layers.MaxPooling2D()\n",
        "    self.flatten = layers.Flatten()\n",
        "    self.dense1 = layers.Dense(128,activation=\"relu\")\n",
        "    self.dense2 = layers.Dense(num_classes,activation=\"softmax\")\n",
        "    \n",
        "\n",
        "  def call(self, inputs):\n",
        "    x = self.conv1(inputs)\n",
        "    x = self.maxpool2d(x)\n",
        "    x = self.conv2(x)\n",
        "    x = self.maxpool2d(x)\n",
        "    x = self.conv3(x)\n",
        "    x = self.maxpool2d(x)\n",
        "\n",
        "    x = self.flatten(x)\n",
        "    x = self.dense1(x)\n",
        "    out = self.dense2(x)\n",
        "\n",
        "    return out\n",
        "\n",
        "subclass_model = MyModel(num_classes,input_shape)"
      ],
      "execution_count": null,
      "outputs": []
    },
    {
      "cell_type": "code",
      "metadata": {
        "id": "wwsgK1UGT2NK"
      },
      "source": [
        "subclass_model.compile(optimizer='Adam',\n",
        "              loss=tf.keras.losses.SparseCategoricalCrossentropy(from_logits=True),\n",
        "              metrics=['acc'])"
      ],
      "execution_count": null,
      "outputs": []
    },
    {
      "cell_type": "code",
      "metadata": {
        "colab": {
          "base_uri": "https://localhost:8080/"
        },
        "id": "9MrzxrazUC5B",
        "outputId": "504ffdf2-bb51-42ce-f55f-be6a7a62a78b"
      },
      "source": [
        "epochs=10\n",
        "history = subclass_model.fit(\n",
        "  train_ds,\n",
        "  validation_data=val_ds,\n",
        "  epochs=epochs\n",
        ")"
      ],
      "execution_count": null,
      "outputs": [
        {
          "output_type": "stream",
          "name": "stdout",
          "text": [
            "Epoch 1/10\n"
          ]
        },
        {
          "output_type": "stream",
          "name": "stderr",
          "text": [
            "/usr/local/lib/python3.7/dist-packages/tensorflow/python/util/dispatch.py:1096: UserWarning: \"`sparse_categorical_crossentropy` received `from_logits=True`, but the `output` argument was produced by a sigmoid or softmax activation and thus does not represent logits. Was this intended?\"\n",
            "  return dispatch_target(*args, **kwargs)\n"
          ]
        },
        {
          "output_type": "stream",
          "name": "stdout",
          "text": [
            "92/92 [==============================] - 11s 103ms/step - loss: 56.7145 - acc: 0.3273 - val_loss: 1.5381 - val_acc: 0.3488\n",
            "Epoch 2/10\n",
            "92/92 [==============================] - 10s 100ms/step - loss: 1.2505 - acc: 0.4969 - val_loss: 1.4844 - val_acc: 0.4060\n",
            "Epoch 3/10\n",
            "92/92 [==============================] - 10s 102ms/step - loss: 0.8077 - acc: 0.7095 - val_loss: 1.7196 - val_acc: 0.4128\n",
            "Epoch 4/10\n",
            "92/92 [==============================] - 10s 102ms/step - loss: 0.4873 - acc: 0.8375 - val_loss: 1.8675 - val_acc: 0.4360\n",
            "Epoch 5/10\n",
            "92/92 [==============================] - 10s 102ms/step - loss: 0.3115 - acc: 0.9022 - val_loss: 2.2148 - val_acc: 0.4700\n",
            "Epoch 6/10\n",
            "92/92 [==============================] - 10s 101ms/step - loss: 0.1759 - acc: 0.9458 - val_loss: 2.4967 - val_acc: 0.4428\n",
            "Epoch 7/10\n",
            "92/92 [==============================] - 10s 102ms/step - loss: 0.1287 - acc: 0.9649 - val_loss: 3.2331 - val_acc: 0.4264\n",
            "Epoch 8/10\n",
            "92/92 [==============================] - 10s 101ms/step - loss: 0.0936 - acc: 0.9738 - val_loss: 3.1396 - val_acc: 0.4414\n",
            "Epoch 9/10\n",
            "92/92 [==============================] - 10s 102ms/step - loss: 0.1016 - acc: 0.9731 - val_loss: 3.2096 - val_acc: 0.4755\n",
            "Epoch 10/10\n",
            "92/92 [==============================] - 10s 101ms/step - loss: 0.0928 - acc: 0.9745 - val_loss: 3.5775 - val_acc: 0.4401\n"
          ]
        }
      ]
    },
    {
      "cell_type": "code",
      "metadata": {
        "id": "PMOIYZifUGL9"
      },
      "source": [
        "num_classes = 5\n",
        "input_shape = (224,224,3)\n",
        "\n",
        "model_input = keras.Input(shape=(224, 224,3), name=\"f_input\")\n",
        "x1 = layers.Conv2D(16, 3,padding=\"same\", activation=\"relu\")(model_input)\n",
        "x1 = layers.MaxPooling2D()(x1)\n",
        "x2 = layers.Conv2D(32, 3,padding=\"same\", activation=\"relu\")(x1)\n",
        "x2 = layers.MaxPooling2D()(x2)\n",
        "x3 = layers.Conv2D(64, 3,padding=\"same\", activation=\"relu\")(x1)\n",
        "x3 = layers.MaxPooling2D()(x3)\n",
        "flat2 = layers.Flatten()(x2)\n",
        "flat3 = layers.Flatten()(x3)\n",
        "d1 = layers.Dense(128,activation=\"relu\")(flat2)\n",
        "d2 = layers.Dense(num_classes,activation=\"softmax\")(flat3)\n",
        "\n",
        "functional_model = keras.Model(model_input, (d1,d2))"
      ],
      "execution_count": null,
      "outputs": []
    },
    {
      "cell_type": "code",
      "metadata": {
        "colab": {
          "base_uri": "https://localhost:8080/"
        },
        "id": "UFPURdZGYKNG",
        "outputId": "5b9465a1-879a-4934-839f-19c36ece5150"
      },
      "source": [
        "functional_model.summary()"
      ],
      "execution_count": null,
      "outputs": [
        {
          "output_type": "stream",
          "name": "stdout",
          "text": [
            "Model: \"model\"\n",
            "__________________________________________________________________________________________________\n",
            " Layer (type)                   Output Shape         Param #     Connected to                     \n",
            "==================================================================================================\n",
            " f_input (InputLayer)           [(None, 224, 224, 3  0           []                               \n",
            "                                )]                                                                \n",
            "                                                                                                  \n",
            " conv2d_41 (Conv2D)             (None, 224, 224, 16  448         ['f_input[0][0]']                \n",
            "                                )                                                                 \n",
            "                                                                                                  \n",
            " max_pooling2d_23 (MaxPooling2D  (None, 112, 112, 16  0          ['conv2d_41[0][0]']              \n",
            " )                              )                                                                 \n",
            "                                                                                                  \n",
            " conv2d_42 (Conv2D)             (None, 112, 112, 32  4640        ['max_pooling2d_23[0][0]']       \n",
            "                                )                                                                 \n",
            "                                                                                                  \n",
            " conv2d_43 (Conv2D)             (None, 112, 112, 64  9280        ['max_pooling2d_23[0][0]']       \n",
            "                                )                                                                 \n",
            "                                                                                                  \n",
            " max_pooling2d_24 (MaxPooling2D  (None, 56, 56, 32)  0           ['conv2d_42[0][0]']              \n",
            " )                                                                                                \n",
            "                                                                                                  \n",
            " max_pooling2d_25 (MaxPooling2D  (None, 56, 56, 64)  0           ['conv2d_43[0][0]']              \n",
            " )                                                                                                \n",
            "                                                                                                  \n",
            " flatten_13 (Flatten)           (None, 100352)       0           ['max_pooling2d_24[0][0]']       \n",
            "                                                                                                  \n",
            " flatten_14 (Flatten)           (None, 200704)       0           ['max_pooling2d_25[0][0]']       \n",
            "                                                                                                  \n",
            " dense_26 (Dense)               (None, 128)          12845184    ['flatten_13[0][0]']             \n",
            "                                                                                                  \n",
            " dense_27 (Dense)               (None, 5)            1003525     ['flatten_14[0][0]']             \n",
            "                                                                                                  \n",
            "==================================================================================================\n",
            "Total params: 13,863,077\n",
            "Trainable params: 13,863,077\n",
            "Non-trainable params: 0\n",
            "__________________________________________________________________________________________________\n"
          ]
        }
      ]
    },
    {
      "cell_type": "code",
      "metadata": {
        "id": "H4dWA_ddYLis"
      },
      "source": [
        "num_classes = 5\n",
        "input_shape = (224,224,3)\n",
        "\n",
        "model_input = keras.Input(shape=(224, 224,3), name=\"f_input\")\n",
        "x1 = layers.Conv2D(16, 3,padding=\"same\", activation=\"relu\")(model_input)\n",
        "x1 = layers.MaxPooling2D()(x1)\n",
        "x2 = layers.Conv2D(32, 3,padding=\"same\", activation=\"relu\")(x1)\n",
        "x2 = layers.MaxPooling2D()(x2)\n",
        "x3 = layers.Conv2D(64, 3,padding=\"same\", activation=\"relu\")(x1)\n",
        "x3 = layers.MaxPooling2D()(x3)\n",
        "\n",
        "con1 = layers.Concatenate()([x2,x3])\n",
        "flat = layers.Flatten()(con1)\n",
        "\n",
        "d1 = layers.Dense(128,activation=\"relu\")(flat)\n",
        "d2 = layers.Dense(num_classes,activation=\"softmax\")(d1)\n",
        "\n",
        "functional_model = keras.Model(model_input, d2)"
      ],
      "execution_count": null,
      "outputs": []
    },
    {
      "cell_type": "code",
      "metadata": {
        "colab": {
          "base_uri": "https://localhost:8080/"
        },
        "id": "dFDP2fqRZ5FS",
        "outputId": "e49327fc-6c25-429b-ff5d-2b25eede72b7"
      },
      "source": [
        "functional_model.summary()"
      ],
      "execution_count": null,
      "outputs": [
        {
          "output_type": "stream",
          "name": "stdout",
          "text": [
            "Model: \"model_1\"\n",
            "__________________________________________________________________________________________________\n",
            " Layer (type)                   Output Shape         Param #     Connected to                     \n",
            "==================================================================================================\n",
            " f_input (InputLayer)           [(None, 224, 224, 3  0           []                               \n",
            "                                )]                                                                \n",
            "                                                                                                  \n",
            " conv2d_44 (Conv2D)             (None, 224, 224, 16  448         ['f_input[0][0]']                \n",
            "                                )                                                                 \n",
            "                                                                                                  \n",
            " max_pooling2d_26 (MaxPooling2D  (None, 112, 112, 16  0          ['conv2d_44[0][0]']              \n",
            " )                              )                                                                 \n",
            "                                                                                                  \n",
            " conv2d_45 (Conv2D)             (None, 112, 112, 32  4640        ['max_pooling2d_26[0][0]']       \n",
            "                                )                                                                 \n",
            "                                                                                                  \n",
            " conv2d_46 (Conv2D)             (None, 112, 112, 64  9280        ['max_pooling2d_26[0][0]']       \n",
            "                                )                                                                 \n",
            "                                                                                                  \n",
            " max_pooling2d_27 (MaxPooling2D  (None, 56, 56, 32)  0           ['conv2d_45[0][0]']              \n",
            " )                                                                                                \n",
            "                                                                                                  \n",
            " max_pooling2d_28 (MaxPooling2D  (None, 56, 56, 64)  0           ['conv2d_46[0][0]']              \n",
            " )                                                                                                \n",
            "                                                                                                  \n",
            " concatenate (Concatenate)      (None, 56, 56, 96)   0           ['max_pooling2d_27[0][0]',       \n",
            "                                                                  'max_pooling2d_28[0][0]']       \n",
            "                                                                                                  \n",
            " flatten_15 (Flatten)           (None, 301056)       0           ['concatenate[0][0]']            \n",
            "                                                                                                  \n",
            " dense_28 (Dense)               (None, 128)          38535296    ['flatten_15[0][0]']             \n",
            "                                                                                                  \n",
            " dense_29 (Dense)               (None, 5)            645         ['dense_28[0][0]']               \n",
            "                                                                                                  \n",
            "==================================================================================================\n",
            "Total params: 38,550,309\n",
            "Trainable params: 38,550,309\n",
            "Non-trainable params: 0\n",
            "__________________________________________________________________________________________________\n"
          ]
        }
      ]
    },
    {
      "cell_type": "code",
      "metadata": {
        "id": "zS93xvu3Z6y8"
      },
      "source": [
        "num_classes = 5\n",
        "input_shape = (224,224,3)\n",
        "\n",
        "model_input = keras.Input(shape=(224, 224,3), name=\"f_input\")\n",
        "conv_1x1 = layers.Conv2D(64, (1,1),padding=\"same\", activation=\"relu\")(model_input)\n",
        "conv_3x3 = layers.Conv2D(128, (3,3),padding=\"same\", activation=\"relu\")(model_input)\n",
        "conv_5x5 = layers.Conv2D(32, (5,5),padding=\"same\", activation=\"relu\")(model_input)\n",
        "maxpool_3x3 = layers.MaxPooling2D(pool_size=(3,3),strides=(1,1),padding=\"same\")(model_input)\n",
        "con1 = layers.Concatenate()([conv_1x1,conv_3x3,conv_5x5,maxpool_3x3])\n",
        "\n",
        "functional_model = keras.Model(model_input, con1, name=\"functional_model\")p"
      ],
      "execution_count": null,
      "outputs": []
    },
    {
      "cell_type": "code",
      "metadata": {
        "colab": {
          "base_uri": "https://localhost:8080/"
        },
        "id": "pCDY3kPdiv1r",
        "outputId": "decdcde3-d061-4d58-be88-24b896180095"
      },
      "source": [
        "functional_model.summary()"
      ],
      "execution_count": null,
      "outputs": [
        {
          "output_type": "stream",
          "name": "stdout",
          "text": [
            "Model: \"functional_model\"\n",
            "__________________________________________________________________________________________________\n",
            " Layer (type)                   Output Shape         Param #     Connected to                     \n",
            "==================================================================================================\n",
            " f_input (InputLayer)           [(None, 224, 224, 3  0           []                               \n",
            "                                )]                                                                \n",
            "                                                                                                  \n",
            " conv2d_6 (Conv2D)              (None, 224, 224, 16  64          ['f_input[0][0]']                \n",
            "                                )                                                                 \n",
            "                                                                                                  \n",
            " conv2d_7 (Conv2D)              (None, 224, 224, 16  448         ['f_input[0][0]']                \n",
            "                                )                                                                 \n",
            "                                                                                                  \n",
            " conv2d_8 (Conv2D)              (None, 224, 224, 16  1216        ['f_input[0][0]']                \n",
            "                                )                                                                 \n",
            "                                                                                                  \n",
            " max_pooling2d_2 (MaxPooling2D)  (None, 224, 224, 3)  0          ['f_input[0][0]']                \n",
            "                                                                                                  \n",
            " concatenate_2 (Concatenate)    (None, 224, 224, 51  0           ['conv2d_6[0][0]',               \n",
            "                                )                                 'conv2d_7[0][0]',               \n",
            "                                                                  'conv2d_8[0][0]',               \n",
            "                                                                  'max_pooling2d_2[0][0]']        \n",
            "                                                                                                  \n",
            "==================================================================================================\n",
            "Total params: 1,728\n",
            "Trainable params: 1,728\n",
            "Non-trainable params: 0\n",
            "__________________________________________________________________________________________________\n"
          ]
        }
      ]
    },
    {
      "cell_type": "code",
      "metadata": {
        "id": "anXgif_fjdYo"
      },
      "source": [
        "'''\n",
        "GoogLeNet 코드 작성\n",
        "functional API, subclass model 중 원하는 방식으로 구현\n",
        "함수를 사용하면 보다 간편하게 구현 가능\n",
        "'''\n",
        "def inception_module(input_layer,filter1=64,filter2=128,filter3=32):\n",
        "  return outputs"
      ],
      "execution_count": null,
      "outputs": []
    },
    {
      "cell_type": "code",
      "metadata": {
        "id": "F-0gKdqFqW6m"
      },
      "source": [
        ""
      ],
      "execution_count": null,
      "outputs": []
    }
  ]
}