{
 "cells": [
  {
   "cell_type": "code",
   "execution_count": 1,
   "metadata": {
    "id": "wlAQAedbUaJ_"
   },
   "outputs": [],
   "source": [
    "import tensorflow as tf\n",
    "from tensorflow import keras\n",
    "import matplotlib.pyplot as plt\n",
    "import numpy as np"
   ]
  },
  {
   "cell_type": "code",
   "execution_count": 2,
   "metadata": {
    "colab": {
     "base_uri": "https://localhost:8080/"
    },
    "id": "erFJhyfKUbKe",
    "outputId": "1d0ecce1-b947-4116-d486-be93f87df715"
   },
   "outputs": [
    {
     "name": "stdout",
     "output_type": "stream",
     "text": [
      "Downloading data from https://www.cs.toronto.edu/~kriz/cifar-10-python.tar.gz\n",
      "170500096/170498071 [==============================] - 11s 0us/step\n",
      "170508288/170498071 [==============================] - 11s 0us/step\n"
     ]
    }
   ],
   "source": [
    "cifar10 = tf.keras.datasets.cifar10\n",
    "\n",
    "(train_inputs, train_labels), (test_inputs, test_labels) = cifar10.load_data()"
   ]
  },
  {
   "cell_type": "code",
   "execution_count": 3,
   "metadata": {
    "colab": {
     "base_uri": "https://localhost:8080/"
    },
    "id": "W9Tu0xM3UbdV",
    "outputId": "1dfb0b48-d100-40bf-c551-7213d136de7a"
   },
   "outputs": [
    {
     "name": "stdout",
     "output_type": "stream",
     "text": [
      "(50000, 32, 32, 3)\n",
      "(50000, 1)\n"
     ]
    }
   ],
   "source": [
    "print(train_inputs.shape)\n",
    "print(train_labels.shape)"
   ]
  },
  {
   "cell_type": "code",
   "execution_count": 4,
   "metadata": {
    "colab": {
     "base_uri": "https://localhost:8080/",
     "height": 266
    },
    "id": "Oa73A2z3UcSl",
    "outputId": "892307e8-35c6-4402-e8b6-b78ff626f99c"
   },
   "outputs": [
    {
     "data": {
      "image/png": "[encoded data removed]",
      "text/plain": [
       "<Figure size 432x288 with 1 Axes>"
      ]
     },
     "metadata": {
      "needs_background": "light"
     },
     "output_type": "display_data"
    }
   ],
   "source": [
    "plt.imshow(train_inputs[0])\n",
    "plt.show()"
   ]
  },
  {
   "cell_type": "code",
   "execution_count": 5,
   "metadata": {
    "id": "F3jblvc6UdWs"
   },
   "outputs": [],
   "source": [
    "train_inputs = train_inputs / 255.0\n",
    "test_inputs = test_inputs / 255.0"
   ]
  },
  {
   "cell_type": "code",
   "execution_count": 6,
   "metadata": {
    "id": "NMAyIpxYUeXM"
   },
   "outputs": [],
   "source": [
    "model = keras.Sequential([\n",
    "                          keras.Input(shape=(32,32,3)),\n",
    "                          keras.layers.Flatten(),\n",
    "                          keras.layers.Dense(128,activation='relu'),\n",
    "                          keras.layers.Dense(10,activation='softmax'),\n",
    "                          ])"
   ]
  },
  {
   "cell_type": "code",
   "execution_count": 7,
   "metadata": {
    "colab": {
     "base_uri": "https://localhost:8080/"
    },
    "id": "-sG-nCQQUe91",
    "outputId": "becff32c-cc4b-4947-fd6e-87555a917a6a"
   },
   "outputs": [
    {
     "name": "stdout",
     "output_type": "stream",
     "text": [
      "Model: \"sequential\"\n",
      "_________________________________________________________________\n",
      "Layer (type)                 Output Shape              Param #   \n",
      "=================================================================\n",
      "flatten (Flatten)            (None, 3072)              0         \n",
      "_________________________________________________________________\n",
      "dense (Dense)                (None, 128)               393344    \n",
      "_________________________________________________________________\n",
      "dense_1 (Dense)              (None, 10)                1290      \n",
      "=================================================================\n",
      "Total params: 394,634\n",
      "Trainable params: 394,634\n",
      "Non-trainable params: 0\n",
      "_________________________________________________________________\n"
     ]
    }
   ],
   "source": [
    "model.summary()"
   ]
  },
  {
   "cell_type": "code",
   "execution_count": 8,
   "metadata": {
    "colab": {
     "base_uri": "https://localhost:8080/"
    },
    "id": "kgtfzbjTUfr9",
    "outputId": "b9b500c5-b3b8-491b-9801-6683d2e7b9cc"
   },
   "outputs": [
    {
     "name": "stdout",
     "output_type": "stream",
     "text": [
      "tf.Tensor([[0.23137255 0.24313726 0.24705882 ... 0.48235294 0.36078432 0.28235295]], shape=(1, 3072), dtype=float32)\n"
     ]
    }
   ],
   "source": [
    "model_flatten = tf.keras.Model(inputs=model.input, outputs=model.layers[0].output)\n",
    "test_output1 = model_flatten(tf.expand_dims(train_inputs[0],axis=0))\n",
    "print(test_output1)"
   ]
  },
  {
   "cell_type": "code",
   "execution_count": null,
   "metadata": {
    "colab": {
     "base_uri": "https://localhost:8080/"
    },
    "id": "uZTh5SyzUhUk",
    "outputId": "26bdf5a1-bd3a-4133-d91c-0cd1a481b25f"
   },
   "outputs": [],
   "source": [
    "model_dense1 = tf.keras.Model(inputs=model.input, outputs=model.layers[1].output)\n",
    "test_output2 = model_dense1(tf.expand_dims(train_inputs[0],axis=0))\n",
    "print(test_output2)"
   ]
  },
  {
   "cell_type": "code",
   "execution_count": 10,
   "metadata": {
    "colab": {
     "base_uri": "https://localhost:8080/"
    },
    "id": "teUF2itnUjR0",
    "outputId": "094a0074-9e04-4eb9-9736-0c0cfb41a40f"
   },
   "outputs": [
    {
     "name": "stdout",
     "output_type": "stream",
     "text": [
      "tf.Tensor(\n",
      "[[0.07492905 0.11894508 0.0458853  0.09158649 0.13546294 0.05817938\n",
      "  0.08278215 0.13890345 0.08481668 0.16850954]], shape=(1, 10), dtype=float32)\n"
     ]
    }
   ],
   "source": [
    "model_dense2 = tf.keras.Model(inputs=model.input, outputs=model.layers[2].output)\n",
    "test_output3 = model_dense2(tf.expand_dims(train_inputs[0],axis=0))\n",
    "print(test_output3)"
   ]
  },
  {
   "cell_type": "code",
   "execution_count": 11,
   "metadata": {
    "id": "k5WYqMWwUj8V"
   },
   "outputs": [],
   "source": [
    "model.compile(optimizer='Adam',\n",
    "              loss=keras.losses.SparseCategoricalCrossentropy(from_logits=True),\n",
    "              metrics=['acc'])"
   ]
  },
  {
   "cell_type": "code",
   "execution_count": 12,
   "metadata": {
    "colab": {
     "base_uri": "https://localhost:8080/"
    },
    "id": "Z7JAVkYaUk3M",
    "outputId": "51936828-5c8c-4602-f657-cc8c55c92da9"
   },
   "outputs": [
    {
     "name": "stdout",
     "output_type": "stream",
     "text": [
      "Epoch 1/20\n"
     ]
    },
    {
     "name": "stderr",
     "output_type": "stream",
     "text": [
      "/usr/local/lib/python3.7/dist-packages/keras/backend.py:4907: UserWarning: \"`sparse_categorical_crossentropy` received `from_logits=True`, but the `output` argument was produced by a sigmoid or softmax activation and thus does not represent logits. Was this intended?\"\n",
      "  '\"`sparse_categorical_crossentropy` received `from_logits=True`, but '\n"
     ]
    },
    {
     "name": "stdout",
     "output_type": "stream",
     "text": [
      "6250/6250 [==============================] - 23s 4ms/step - loss: 1.9328 - acc: 0.2968 - val_loss: 1.8566 - val_acc: 0.3291\n",
      "Epoch 2/20\n",
      "6250/6250 [==============================] - 20s 3ms/step - loss: 1.8269 - acc: 0.3422 - val_loss: 1.7877 - val_acc: 0.3545\n",
      "Epoch 3/20\n",
      "6250/6250 [==============================] - 21s 3ms/step - loss: 1.7930 - acc: 0.3564 - val_loss: 1.7599 - val_acc: 0.3706\n",
      "Epoch 4/20\n",
      "6250/6250 [==============================] - 19s 3ms/step - loss: 1.7749 - acc: 0.3629 - val_loss: 1.8258 - val_acc: 0.3465\n",
      "Epoch 5/20\n",
      "6250/6250 [==============================] - 21s 3ms/step - loss: 1.7637 - acc: 0.3715 - val_loss: 1.7663 - val_acc: 0.3667\n",
      "Epoch 6/20\n",
      "6250/6250 [==============================] - 21s 3ms/step - loss: 1.7588 - acc: 0.3713 - val_loss: 1.7487 - val_acc: 0.3748\n",
      "Epoch 7/20\n",
      "6250/6250 [==============================] - 22s 3ms/step - loss: 1.7508 - acc: 0.3749 - val_loss: 1.8060 - val_acc: 0.3565\n",
      "Epoch 8/20\n",
      "6250/6250 [==============================] - 21s 3ms/step - loss: 1.7448 - acc: 0.3764 - val_loss: 1.7442 - val_acc: 0.3775\n",
      "Epoch 9/20\n",
      "6250/6250 [==============================] - 20s 3ms/step - loss: 1.7370 - acc: 0.3817 - val_loss: 1.7516 - val_acc: 0.3675\n",
      "Epoch 10/20\n",
      "6250/6250 [==============================] - 21s 3ms/step - loss: 1.7333 - acc: 0.3795 - val_loss: 1.7794 - val_acc: 0.3560\n",
      "Epoch 11/20\n",
      "6250/6250 [==============================] - 22s 3ms/step - loss: 1.7282 - acc: 0.3829 - val_loss: 1.7368 - val_acc: 0.3758\n",
      "Epoch 12/20\n",
      "6250/6250 [==============================] - 20s 3ms/step - loss: 1.7217 - acc: 0.3849 - val_loss: 1.7136 - val_acc: 0.3903\n",
      "Epoch 13/20\n",
      "6250/6250 [==============================] - 21s 3ms/step - loss: 1.7162 - acc: 0.3892 - val_loss: 1.7067 - val_acc: 0.3902\n",
      "Epoch 14/20\n",
      "6250/6250 [==============================] - 21s 3ms/step - loss: 1.7128 - acc: 0.3894 - val_loss: 1.7265 - val_acc: 0.3791\n",
      "Epoch 15/20\n",
      "6250/6250 [==============================] - 19s 3ms/step - loss: 1.7108 - acc: 0.3870 - val_loss: 1.7276 - val_acc: 0.3797\n",
      "Epoch 16/20\n",
      "6250/6250 [==============================] - 20s 3ms/step - loss: 1.7085 - acc: 0.3894 - val_loss: 1.7203 - val_acc: 0.3760\n",
      "Epoch 17/20\n",
      "6250/6250 [==============================] - 20s 3ms/step - loss: 1.7044 - acc: 0.3908 - val_loss: 1.7734 - val_acc: 0.3626\n",
      "Epoch 18/20\n",
      "6250/6250 [==============================] - 21s 3ms/step - loss: 1.7048 - acc: 0.3895 - val_loss: 1.7715 - val_acc: 0.3593\n",
      "Epoch 19/20\n",
      "6250/6250 [==============================] - 19s 3ms/step - loss: 1.7030 - acc: 0.3916 - val_loss: 1.7240 - val_acc: 0.3836\n",
      "Epoch 20/20\n",
      "6250/6250 [==============================] - 21s 3ms/step - loss: 1.7001 - acc: 0.3933 - val_loss: 1.7272 - val_acc: 0.3801\n"
     ]
    },
    {
     "data": {
      "text/plain": [
       "<keras.callbacks.History at 0x7f7a3c3633d0>"
      ]
     },
     "execution_count": 12,
     "metadata": {},
     "output_type": "execute_result"
    }
   ],
   "source": [
    "model.fit(x=train_inputs,\n",
    "          y=train_labels,\n",
    "          batch_size=8,\n",
    "          epochs=20,\n",
    "          validation_data=(test_inputs,test_labels))"
   ]
  },
  {
   "cell_type": "code",
   "execution_count": null,
   "metadata": {
    "id": "_cgGrlj-UlhE"
   },
   "outputs": [],
   "source": [
    "model = keras.Sequential([\n",
    "                          tf.keras.Input(shape=(32,32,3)),\n",
    "                          tf.keras.layers.Conv2D(kernel_size=(4, 4), strides = (1,1), filters = 12),\n",
    "                          tf.keras.layers.MaxPool2D(),\n",
    "                          tf.keras.layers.Conv2D(kernel_size=(4, 4), strides = (1,1), filters = 8),\n",
    "                          tf.keras.layers.Flatten(),\n",
    "                          tf.keras.layers.Dense(10, activation = \"softmax\"),\n",
    "                          '''\n",
    "                          TODO\n",
    "                          Convolution layer 2개, Pooling layer 하나, flatten, FC layer(dense)로 모델을 완성하세요\n",
    "                          '''\n",
    "])"
   ]
  },
  {
   "cell_type": "code",
   "execution_count": null,
   "metadata": {
    "id": "KwGvVNi0Uxzd"
   },
   "outputs": [],
   "source": [
    "model.compile(optimizer='Adam',\n",
    "              loss=keras.losses.SparseCategoricalCrossentropy(from_logits=True),\n",
    "              metrics=['acc'])"
   ]
  },
  {
   "cell_type": "code",
   "execution_count": null,
   "metadata": {
    "id": "65tItXIsUznx"
   },
   "outputs": [],
   "source": [
    "model.fit(x=train_inputs,\n",
    "          y=train_labels,\n",
    "          batch_size=8,\n",
    "          epochs=20,\n",
    "          validation_data=(test_inputs,test_labels))"
   ]
  },
  {
   "cell_type": "code",
   "execution_count": null,
   "metadata": {},
   "outputs": [],
   "source": []
  },
  {
   "cell_type": "code",
   "execution_count": null,
   "metadata": {},
   "outputs": [],
   "source": []
  }
 ],
 "metadata": {
  "colab": {
   "name": "Untitled10.ipynb",
   "provenance": []
  },
  "kernelspec": {
   "display_name": "Python 3",
   "language": "python",
   "name": "python3"
  },
  "language_info": {
   "codemirror_mode": {
    "name": "ipython",
    "version": 3
   },
   "file_extension": ".py",
   "mimetype": "text/x-python",
   "name": "python",
   "nbconvert_exporter": "python",
   "pygments_lexer": "ipython3",
   "version": "3.8.8"
  }
 },
 "nbformat": 4,
 "nbformat_minor": 1
}
